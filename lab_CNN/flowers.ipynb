{
 "cells": [
  {
   "cell_type": "code",
   "execution_count": 1,
   "metadata": {},
   "outputs": [
    {
     "name": "stderr",
     "output_type": "stream",
     "text": [
      "2023-12-08 13:12:40.838670: E external/local_xla/xla/stream_executor/cuda/cuda_dnn.cc:9261] Unable to register cuDNN factory: Attempting to register factory for plugin cuDNN when one has already been registered\n",
      "2023-12-08 13:12:40.838777: E external/local_xla/xla/stream_executor/cuda/cuda_fft.cc:607] Unable to register cuFFT factory: Attempting to register factory for plugin cuFFT when one has already been registered\n",
      "2023-12-08 13:12:41.016003: E external/local_xla/xla/stream_executor/cuda/cuda_blas.cc:1515] Unable to register cuBLAS factory: Attempting to register factory for plugin cuBLAS when one has already been registered\n",
      "2023-12-08 13:12:41.361441: I tensorflow/core/platform/cpu_feature_guard.cc:182] This TensorFlow binary is optimized to use available CPU instructions in performance-critical operations.\n",
      "To enable the following instructions: AVX2 FMA, in other operations, rebuild TensorFlow with the appropriate compiler flags.\n",
      "2023-12-08 13:12:44.104345: W tensorflow/compiler/tf2tensorrt/utils/py_utils.cc:38] TF-TRT Warning: Could not find TensorRT\n"
     ]
    }
   ],
   "source": [
    "import matplotlib.pyplot as plt\n",
    "import os\n",
    "from PIL import Image\n",
    "import tensorflow as tf\n",
    "import numpy as np\n",
    "from tensorflow.keras.preprocessing.image import img_to_array\n",
    "from tensorflow.keras.utils import to_categorical\n",
    "from sklearn.model_selection import train_test_split"
   ]
  },
  {
   "cell_type": "markdown",
   "metadata": {},
   "source": [
    "### Help functions"
   ]
  },
  {
   "cell_type": "code",
   "execution_count": 2,
   "metadata": {},
   "outputs": [],
   "source": [
    "def plot_training_history(train_losses, train_accuracies, val_losses, val_accuracies, test_loss, test_accuracy):\n",
    "    plt.figure(figsize=(10, 3))\n",
    "\n",
    "    plt.subplot(1, 2, 1)\n",
    "    plt.plot(train_losses, label='train')\n",
    "    plt.plot(val_losses, label='val')\n",
    "    plt.title(f'Loss (test loss = {test_loss:.4f})')\n",
    "    plt.ylabel('Loss')\n",
    "    plt.xlabel('Epoch')\n",
    "\n",
    "    plt.subplot(1, 2, 2)\n",
    "    plt.plot(train_accuracies, label='train')\n",
    "    plt.plot(val_accuracies, label='val')\n",
    "    plt.title(f'Accuracy (test accuracy = {test_accuracy:.4f})')\n",
    "    plt.ylabel('Accuracy')\n",
    "    plt.xlabel('Epoch')\n",
    "\n",
    "    plt.legend()\n",
    "    plt.show()"
   ]
  },
  {
   "cell_type": "markdown",
   "metadata": {},
   "source": [
    "# Data"
   ]
  },
  {
   "cell_type": "markdown",
   "metadata": {},
   "source": [
    "Images are saved in separate folders for each flower type"
   ]
  },
  {
   "cell_type": "code",
   "execution_count": 3,
   "metadata": {},
   "outputs": [],
   "source": [
    "# list of labels\n",
    "labels_list = ['sunflower', 'tulip', 'daisy', 'rose', 'dandelion']\n",
    "\n",
    "# directories where data is saved\n",
    "dir_list = ['./data/sunflower/', './data/tulip/', './data/daisy/', './data/rose/', './data/dandelion/']"
   ]
  },
  {
   "cell_type": "markdown",
   "metadata": {},
   "source": [
    "Create list X of images as arrays and list y with labels (0-4, with index corresponding to labels_list)"
   ]
  },
  {
   "cell_type": "code",
   "execution_count": 4,
   "metadata": {},
   "outputs": [],
   "source": [
    "X = []\n",
    "y = []\n",
    "\n",
    "for dir in dir_list:\n",
    "    for filename in os.listdir(dir):\n",
    "        path = os.path.join(dir, filename)\n",
    "        img = Image.open(path).resize((150,150)) # read in image and resize\n",
    "        img_array = tf.keras.utils.img_to_array(img) # trasform into array\n",
    "        X.append(img_array)\n",
    "        y.append(dir_list.index(dir))"
   ]
  },
  {
   "cell_type": "markdown",
   "metadata": {},
   "source": [
    "X: make array and normalize all 3 channels\\\n",
    "y: make array and apply one-hot encoding into 5 categories"
   ]
  },
  {
   "cell_type": "code",
   "execution_count": 5,
   "metadata": {},
   "outputs": [
    {
     "data": {
      "text/plain": [
       "((4317, 150, 150, 3), (4317, 5))"
      ]
     },
     "execution_count": 5,
     "metadata": {},
     "output_type": "execute_result"
    }
   ],
   "source": [
    "X_array = np.array(X) / 255.0\n",
    "\n",
    "y_array = np.array(y)   \n",
    "y_array = to_categorical(y_array, len(labels_list))\n",
    "\n",
    "X_array.shape, y_array.shape"
   ]
  },
  {
   "cell_type": "markdown",
   "metadata": {},
   "source": [
    "Split data into train, val and test (60:20:20)"
   ]
  },
  {
   "cell_type": "code",
   "execution_count": 6,
   "metadata": {},
   "outputs": [
    {
     "data": {
      "text/plain": [
       "((2589, 150, 150, 3),\n",
       " (864, 150, 150, 3),\n",
       " (864, 150, 150, 3),\n",
       " (2589, 5),\n",
       " (864, 5),\n",
       " (864, 5))"
      ]
     },
     "execution_count": 6,
     "metadata": {},
     "output_type": "execute_result"
    }
   ],
   "source": [
    "X_trainval, X_test, y_trainval, y_test =train_test_split(X_array, y_array, test_size=0.20, random_state=42)\n",
    "X_train, X_val, y_train, y_val =train_test_split(X_trainval, y_trainval, test_size=0.25, random_state=42)\n",
    "\n",
    "X_train.shape, X_val.shape, X_test.shape, y_train.shape, y_val.shape, y_test.shape"
   ]
  },
  {
   "cell_type": "markdown",
   "metadata": {},
   "source": [
    "# Define basic model"
   ]
  },
  {
   "cell_type": "code",
   "execution_count": 7,
   "metadata": {},
   "outputs": [
    {
     "name": "stdout",
     "output_type": "stream",
     "text": [
      "Model: \"sequential\"\n",
      "_________________________________________________________________\n",
      " Layer (type)                Output Shape              Param #   \n",
      "=================================================================\n",
      " conv2d (Conv2D)             (None, 150, 150, 32)      896       \n",
      "                                                                 \n",
      " max_pooling2d (MaxPooling2  (None, 75, 75, 32)        0         \n",
      " D)                                                              \n",
      "                                                                 \n",
      " conv2d_1 (Conv2D)           (None, 75, 75, 64)        18496     \n",
      "                                                                 \n",
      " max_pooling2d_1 (MaxPoolin  (None, 37, 37, 64)        0         \n",
      " g2D)                                                            \n",
      "                                                                 \n",
      " conv2d_2 (Conv2D)           (None, 37, 37, 128)       73856     \n",
      "                                                                 \n",
      " flatten (Flatten)           (None, 175232)            0         \n",
      "                                                                 \n",
      " dense (Dense)               (None, 128)               22429824  \n",
      "                                                                 \n",
      " dense_1 (Dense)             (None, 5)                 645       \n",
      "                                                                 \n",
      "=================================================================\n",
      "Total params: 22523717 (85.92 MB)\n",
      "Trainable params: 22523717 (85.92 MB)\n",
      "Non-trainable params: 0 (0.00 Byte)\n",
      "_________________________________________________________________\n"
     ]
    }
   ],
   "source": [
    "model_base = tf.keras.models.Sequential([\n",
    "    tf.keras.layers.Conv2D(filters = 32, kernel_size = (3, 3), strides = (1, 1), activation = 'relu', padding = 'same', input_shape = (150, 150, 3)),\n",
    "    tf.keras.layers.MaxPooling2D(pool_size=(2, 2), strides = 2),\n",
    "    tf.keras.layers.Conv2D(filters = 64, kernel_size = (3, 3), strides = (1, 1), activation = 'relu', padding = 'same'),\n",
    "    tf.keras.layers.MaxPooling2D(pool_size=(2, 2), strides = 2),\n",
    "    tf.keras.layers.Conv2D(filters = 128, kernel_size = (3, 3), strides = (1, 1), activation = 'relu', padding = 'same'),\n",
    "    tf.keras.layers.Flatten(),\n",
    "    tf.keras.layers.Dense(128, activation='relu'),\n",
    "    tf.keras.layers.Dense(5, activation='softmax')\n",
    "])\n",
    "model_base.compile(optimizer='Adam', loss='categorical_crossentropy', metrics=['accuracy'])\n",
    "\n",
    "model_base.summary()"
   ]
  },
  {
   "cell_type": "code",
   "execution_count": 8,
   "metadata": {},
   "outputs": [
    {
     "name": "stderr",
     "output_type": "stream",
     "text": [
      "2023-12-08 13:13:12.823999: W external/local_tsl/tsl/framework/cpu_allocator_impl.cc:83] Allocation of 699030000 exceeds 10% of free system memory.\n"
     ]
    },
    {
     "name": "stdout",
     "output_type": "stream",
     "text": [
      "Epoch 1/10\n",
      "81/81 [==============================] - ETA: 0s - loss: 1.3595 - accuracy: 0.4345"
     ]
    },
    {
     "name": "stderr",
     "output_type": "stream",
     "text": [
      "2023-12-08 13:14:31.947837: W external/local_tsl/tsl/framework/cpu_allocator_impl.cc:83] Allocation of 233280000 exceeds 10% of free system memory.\n"
     ]
    },
    {
     "name": "stdout",
     "output_type": "stream",
     "text": [
      "81/81 [==============================] - 85s 1s/step - loss: 1.3595 - accuracy: 0.4345 - val_loss: 1.1787 - val_accuracy: 0.5243\n",
      "Epoch 2/10\n",
      "81/81 [==============================] - 88s 1s/step - loss: 1.0369 - accuracy: 0.5948 - val_loss: 1.0534 - val_accuracy: 0.5833\n",
      "Epoch 3/10\n",
      "81/81 [==============================] - 89s 1s/step - loss: 0.8963 - accuracy: 0.6613 - val_loss: 1.0008 - val_accuracy: 0.5914\n",
      "Epoch 4/10\n",
      "81/81 [==============================] - 89s 1s/step - loss: 0.6820 - accuracy: 0.7451 - val_loss: 1.0705 - val_accuracy: 0.5822\n",
      "Epoch 5/10\n",
      "81/81 [==============================] - 87s 1s/step - loss: 0.4316 - accuracy: 0.8509 - val_loss: 1.2926 - val_accuracy: 0.6076\n",
      "Epoch 6/10\n",
      "81/81 [==============================] - 86s 1s/step - loss: 0.2213 - accuracy: 0.9312 - val_loss: 1.4907 - val_accuracy: 0.6076\n",
      "Epoch 7/10\n",
      "81/81 [==============================] - 87s 1s/step - loss: 0.1168 - accuracy: 0.9633 - val_loss: 1.8988 - val_accuracy: 0.5787\n",
      "Epoch 8/10\n",
      "81/81 [==============================] - 92s 1s/step - loss: 0.0769 - accuracy: 0.9803 - val_loss: 1.8536 - val_accuracy: 0.5995\n",
      "Epoch 9/10\n",
      "81/81 [==============================] - 85s 1s/step - loss: 0.0477 - accuracy: 0.9880 - val_loss: 2.1082 - val_accuracy: 0.6053\n",
      "Epoch 10/10\n",
      "81/81 [==============================] - 83s 1s/step - loss: 0.0392 - accuracy: 0.9911 - val_loss: 2.3069 - val_accuracy: 0.5926\n"
     ]
    }
   ],
   "source": [
    "history = model_base.fit(X_train, y_train, epochs=10, validation_data=(X_val, y_val))\n",
    "train_loss, train_accuracy, val_loss, val_accuracy = history.history.values()"
   ]
  },
  {
   "cell_type": "code",
   "execution_count": 9,
   "metadata": {},
   "outputs": [
    {
     "name": "stderr",
     "output_type": "stream",
     "text": [
      "2023-12-08 13:27:44.560114: W external/local_tsl/tsl/framework/cpu_allocator_impl.cc:83] Allocation of 233280000 exceeds 10% of free system memory.\n"
     ]
    },
    {
     "name": "stdout",
     "output_type": "stream",
     "text": [
      "27/27 - 6s - loss: 2.6301 - accuracy: 0.5694 - 6s/epoch - 237ms/step\n"
     ]
    }
   ],
   "source": [
    "test_loss, test_accuracy = model_base.evaluate(X_test, y_test, verbose=2)"
   ]
  },
  {
   "cell_type": "code",
   "execution_count": 10,
   "metadata": {},
   "outputs": [
    {
     "data": {
      "image/png": "[encoded data removed]",
      "text/plain": [
       "<Figure size 1000x300 with 2 Axes>"
      ]
     },
     "metadata": {},
     "output_type": "display_data"
    }
   ],
   "source": [
    "plot_training_history(train_loss, train_accuracy, val_loss, val_accuracy, test_loss, test_accuracy)"
   ]
  },
  {
   "cell_type": "markdown",
   "metadata": {},
   "source": [
    "Basic model is overfitting and has poor performance on test data. Regularization techniques such as early stopping, dropouts, L2, fewer kernels and data augumentation could be applied."
   ]
  },
  {
   "cell_type": "markdown",
   "metadata": {},
   "source": [
    "Model architecture is CNN with input size corresponding to X data. Increesing number of kernels through out the network. Conv2D layers with the go to ReLU function and zeropadding. Maxpooling is applied. Final layer is activated with softmax since it is a multi-classification problem with output 5. Loss function is 'categorical_crossentropy' which is suiable for multiclassification problem. \\\n",
    "Data was resized and normalized. One-shot classification was used to create output vectors for 5 categories.\\\n",
    "Model performance was evaluated by plotting training and validation losses and accuracies as function of epoches.\\\n",
    "Further improvments could be atcheved by for example data augumentation to increase amount of data or more thorough data pretreatment."
   ]
  }
 ],
 "metadata": {
  "kernelspec": {
   "display_name": "venv",
   "language": "python",
   "name": "python3"
  },
  "language_info": {
   "codemirror_mode": {
    "name": "ipython",
    "version": 3
   },
   "file_extension": ".py",
   "mimetype": "text/x-python",
   "name": "python",
   "nbconvert_exporter": "python",
   "pygments_lexer": "ipython3",
   "version": "3.10.12"
  }
 },
 "nbformat": 4,
 "nbformat_minor": 2
}
