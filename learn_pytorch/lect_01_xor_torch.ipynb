{
 "cells": [
  {
   "cell_type": "markdown",
   "id": "6ef0e711-e5df-4c5a-874a-e444b9fcd0c6",
   "metadata": {},
   "source": [
    "# XOR problem with PyTorch"
   ]
  },
  {
   "cell_type": "code",
   "execution_count": 1,
   "id": "9a885f15-34be-4cb3-905a-2f8a40e2a82a",
   "metadata": {},
   "outputs": [],
   "source": [
    "import torch\n",
    "import torch.nn as nn\n",
    "from torch.optim import Adam\n",
    "from sklearn.metrics import accuracy_score\n",
    "import numpy as np\n",
    "import matplotlib.pyplot as plt\n",
    "import seaborn as sns\n",
    "\n",
    "# Data. PyTorch wants the data to be tensors\n",
    "inputs = np.array([[0,0], [0,1], [1,0], [1,1]], dtype=np.float32)\n",
    "inputs = torch.from_numpy(inputs)\n",
    "outputs = np.array([[0], [1], [1], [0]], dtype=np.float32)\n",
    "outputs = torch.from_numpy(outputs)\n"
   ]
  },
  {
   "cell_type": "markdown",
   "id": "dc66ea2a-d65a-4ab7-94f9-24baa9ce99f1",
   "metadata": {},
   "source": [
    "Linear layer means fully connected layer (dense).\n"
   ]
  },
  {
   "cell_type": "code",
   "execution_count": 2,
   "metadata": {},
   "outputs": [],
   "source": [
    "# # ------- Create the model using Sequential.-----------\n",
    "# model = nn.Sequential(\n",
    "#     nn.Linear(2, 2), # input has 2 nodes, 1st hidden layer has 2 nodes\n",
    "#     nn.Sigmoid(),   # activation function 1st hidden layer\n",
    "#     nn.Linear(2, 1), # output layer has 1 node\n",
    "#     nn.Sigmoid(),    # activation function on output layer\n",
    "# )\n",
    "\n",
    "# print(model)\n"
   ]
  },
  {
   "cell_type": "code",
   "execution_count": 3,
   "metadata": {},
   "outputs": [
    {
     "name": "stdout",
     "output_type": "stream",
     "text": [
      "MyModel(\n",
      "  (hidden1): Linear(in_features=2, out_features=2, bias=True)\n",
      "  (act1): Sigmoid()\n",
      "  (output): Linear(in_features=2, out_features=1, bias=True)\n",
      "  (act_output): Sigmoid()\n",
      ")\n"
     ]
    }
   ],
   "source": [
    "# --------- crate model using class approach -----------\n",
    "class MyModel(nn.Module):\n",
    "    def __init__(self, input_size, output_size):\n",
    "        super().__init__()   # super(MyModel, self).__init__()\n",
    "        self.hidden1 = nn.Linear(input_size, 2)\n",
    "        self.act1 = nn.Sigmoid()\n",
    "        self.output = nn.Linear(2, output_size)\n",
    "        self.act_output = nn.Sigmoid()\n",
    " \n",
    "    def forward(self, x):\n",
    "        x = self.act1(self.hidden1(x))\n",
    "        x = self.act_output(self.output(x))\n",
    "        return x\n",
    " \n",
    "model = MyModel(inputs.shape[1], 1)\n",
    "print(model)"
   ]
  },
  {
   "cell_type": "code",
   "execution_count": 4,
   "metadata": {},
   "outputs": [],
   "source": [
    "# # inspired by: https://medium.com/analytics-vidhya/pytorch-for-deep-learning-feed-forward-neural-network-d24f5870c18\n",
    "# # input -> Input layer (2) -> hidden layer l1 (2) -> output layer (1) -> output\n",
    "\n",
    "# class net(nn.Module):\n",
    "#     def __init__(self,input_size,output_size):\n",
    "#         super(net,self).__init__()\n",
    "#         self.l1 = nn.Linear(input_size,2)\n",
    "#         self.sigmoid = nn.Sigmoid()\n",
    "#         self.l_output = nn.Linear(2,output_size)\n",
    "\n",
    "#     def forward(self, x):\n",
    "#         output = self.l1(x) \n",
    "#         output = self.sigmoid(output)\n",
    "#         output = self.l_output(output)\n",
    "#         output = self.sigmoid(output)\n",
    "#         return output\n",
    "\n",
    "# model = net(inputs.shape[1], 1)\n",
    "# print(model)"
   ]
  },
  {
   "cell_type": "code",
   "execution_count": 5,
   "metadata": {},
   "outputs": [
    {
     "data": {
      "text/plain": [
       "(tensor([[0.],\n",
       "         [1.],\n",
       "         [1.],\n",
       "         [0.]]),\n",
       " array([[0.],\n",
       "        [1.],\n",
       "        [1.],\n",
       "        [0.]], dtype=float32))"
      ]
     },
     "execution_count": 5,
     "metadata": {},
     "output_type": "execute_result"
    }
   ],
   "source": [
    "outputs, outputs.detach().numpy()"
   ]
  },
  {
   "cell_type": "code",
   "execution_count": 11,
   "metadata": {},
   "outputs": [
    {
     "name": "stdout",
     "output_type": "stream",
     "text": [
      "Epoch 0:  training_loss is 1.1225839813278071e-08, accuracy is: 1.0\n"
     ]
    },
    {
     "name": "stdout",
     "output_type": "stream",
     "text": [
      "Epoch 500:  training_loss is 2.282923183827279e-09, accuracy is: 1.0\n",
      "Epoch 1000:  training_loss is 1.2242455937894192e-09, accuracy is: 1.0\n",
      "Epoch 1500:  training_loss is 8.254845140776013e-10, accuracy is: 1.0\n",
      "Epoch 2000:  training_loss is 6.20967888220747e-10, accuracy is: 1.0\n",
      "Epoch 2500:  training_loss is 4.932776409560802e-10, accuracy is: 1.0\n",
      "Epoch 3000:  training_loss is 4.0979214466219105e-10, accuracy is: 1.0\n",
      "Epoch 3500:  training_loss is 3.491855138371136e-10, accuracy is: 1.0\n",
      "Epoch 4000:  training_loss is 3.03969016623995e-10, accuracy is: 1.0\n",
      "Epoch 4500:  training_loss is 2.69406247310755e-10, accuracy is: 1.0\n"
     ]
    }
   ],
   "source": [
    "# Train model as in Tensorflow model.fit(inputs, outputs, epochs=10000, verbose=0)\n",
    "\n",
    "loss_fn = nn.MSELoss()\n",
    "optimizer = Adam(model.parameters(), lr=0.02)\n",
    "epochs = 5000\n",
    "\n",
    "train_losses = []\n",
    "train_accuracies = []\n",
    "\n",
    "for epoch in range (epochs):\n",
    "    outputs_pred = model.forward(inputs) # fit model; same as model(inputs)\n",
    "    train_loss = loss_fn(outputs_pred, outputs)\n",
    "    train_losses.append(train_loss.item()) # .item() to extract value rather than creates a list of tensors\n",
    "    \n",
    "    train_accuracy = (outputs_pred.round() == outputs).float().mean()\n",
    "    # train_accuracy = torch.mean((torch.round(outputs_pred) == outputs).float()) # with torch\n",
    "    # train_accuracy = accuracy_score(outputs.detach().numpy(), outputs_pred.detach().numpy().round(), normalize=True) # with scikit-learn\n",
    "    train_accuracies.append(train_accuracy.item())\n",
    "\n",
    "    if epoch == 0 or (epoch+1) % 500 == 1:\n",
    "        print(f\"Epoch {epoch}:  training_loss is {train_loss}, accuracy is: {train_accuracy}\")\n",
    "    # Backward pass and optimization\n",
    "    optimizer.zero_grad()\n",
    "    train_loss.backward()\n",
    "    optimizer.step()"
   ]
  },
  {
   "cell_type": "code",
   "execution_count": 7,
   "metadata": {},
   "outputs": [
    {
     "data": {
      "text/plain": [
       "<bound method Axes.legend of <Axes: title={'center': 'Accuracy during training'}, xlabel='Epoch', ylabel='Training accuracy'>>"
      ]
     },
     "execution_count": 7,
     "metadata": {},
     "output_type": "execute_result"
    },
    {
     "data": {
      "image/png": "[encoded data removed]",
      "text/plain": [
       "<Figure size 1800x500 with 2 Axes>"
      ]
     },
     "metadata": {},
     "output_type": "display_data"
    }
   ],
   "source": [
    "fig, ax = plt.subplots(1, 2, figsize=(18, 5))\n",
    "\n",
    "sns.lineplot(x=range(1, len(train_losses)+1), y=train_losses, label='Training loss', ax=ax[0])\n",
    "ax[0].set(title='Loss during training', ylabel='Training loss', xlabel='Epoch')\n",
    "ax[0].legend\n",
    "\n",
    "sns.lineplot(x=range(1, len(train_accuracies)+1), y=train_accuracies, label='Training accuracy', ax=ax[1])\n",
    "ax[1].set(title='Accuracy during training', ylabel='Training accuracy', xlabel='Epoch')\n",
    "ax[1].legend"
   ]
  },
  {
   "cell_type": "code",
   "execution_count": 8,
   "metadata": {},
   "outputs": [
    {
     "name": "stdout",
     "output_type": "stream",
     "text": [
      "Train loss is: 3.0369757951120846e-05, Accuracy is: 1.0\n"
     ]
    }
   ],
   "source": [
    "# Evaluate model as in TensorFlow loss, accuracy = model.evaluate(inputs, outputs) \n",
    "\n",
    "model.eval()\n",
    "with torch.no_grad():\n",
    "    outputs_pred = model.forward(inputs)\n",
    "    train_loss = loss_fn(outputs_pred, outputs)\n",
    "    train_accuracy = (outputs_pred.round() == outputs).float().mean()\n",
    "\n",
    "print(f'Train loss is: {train_loss}, Accuracy is: {train_accuracy}')"
   ]
  },
  {
   "cell_type": "code",
   "execution_count": 9,
   "metadata": {},
   "outputs": [
    {
     "name": "stdout",
     "output_type": "stream",
     "text": [
      "Input: [0. 0.], Expected: 0.0, Predicted: 0.0049, which is correct\n",
      "Input: [0. 1.], Expected: 1.0, Predicted: 0.9947, which is correct\n",
      "Input: [1. 0.], Expected: 1.0, Predicted: 0.9947, which is correct\n",
      "Input: [1. 1.], Expected: 0.0, Predicted: 0.0065, which is correct\n"
     ]
    }
   ],
   "source": [
    "for i in range(len(inputs)):\n",
    "    print(f'Input: {inputs[i].numpy()}, Expected: {outputs[i][0]}, Predicted: {outputs_pred[i][0]:.4f}, which is {\"correct\" if round(outputs_pred[i].item())==outputs[i].item() else \"incorrect\"}')"
   ]
  }
 ],
 "metadata": {
  "kernelspec": {
   "display_name": "venv",
   "language": "python",
   "name": "python3"
  },
  "language_info": {
   "codemirror_mode": {
    "name": "ipython",
    "version": 3
   },
   "file_extension": ".py",
   "mimetype": "text/x-python",
   "name": "python",
   "nbconvert_exporter": "python",
   "pygments_lexer": "ipython3",
   "version": "3.10.12"
  }
 },
 "nbformat": 4,
 "nbformat_minor": 5
}
